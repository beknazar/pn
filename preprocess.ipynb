{
 "cells": [
  {
   "cell_type": "code",
   "execution_count": 170,
   "metadata": {},
   "outputs": [],
   "source": [
    "# Import necessary libraries\n",
    "import matplotlib.pyplot as plt\n",
    "import numpy as np\n",
    "import pandas as pd\n",
    "import seaborn as sns\n",
    "\n",
    "%matplotlib inline"
   ]
  },
  {
   "cell_type": "code",
   "execution_count": 131,
   "metadata": {},
   "outputs": [],
   "source": [
    "# Load datasets\n",
    "train = pd.read_csv('data/training.csv', sep=';')\n",
    "valid = pd.read_csv('data/validation.csv', sep=';')"
   ]
  },
  {
   "cell_type": "code",
   "execution_count": 132,
   "metadata": {},
   "outputs": [
    {
     "data": {
      "text/html": [
       "<div>\n",
       "<style scoped>\n",
       "    .dataframe tbody tr th:only-of-type {\n",
       "        vertical-align: middle;\n",
       "    }\n",
       "\n",
       "    .dataframe tbody tr th {\n",
       "        vertical-align: top;\n",
       "    }\n",
       "\n",
       "    .dataframe thead th {\n",
       "        text-align: right;\n",
       "    }\n",
       "</style>\n",
       "<table border=\"1\" class=\"dataframe\">\n",
       "  <thead>\n",
       "    <tr style=\"text-align: right;\">\n",
       "      <th></th>\n",
       "      <th>v1</th>\n",
       "      <th>v2</th>\n",
       "      <th>v3</th>\n",
       "      <th>v4</th>\n",
       "      <th>v5</th>\n",
       "      <th>v6</th>\n",
       "      <th>v7</th>\n",
       "      <th>v8</th>\n",
       "      <th>v9</th>\n",
       "      <th>v10</th>\n",
       "      <th>v11</th>\n",
       "      <th>v12</th>\n",
       "      <th>v13</th>\n",
       "      <th>v14</th>\n",
       "      <th>v15</th>\n",
       "      <th>v17</th>\n",
       "      <th>v18</th>\n",
       "      <th>v19</th>\n",
       "      <th>classLabel</th>\n",
       "    </tr>\n",
       "  </thead>\n",
       "  <tbody>\n",
       "    <tr>\n",
       "      <th>0</th>\n",
       "      <td>a</td>\n",
       "      <td>17,92</td>\n",
       "      <td>5,4e-05</td>\n",
       "      <td>u</td>\n",
       "      <td>g</td>\n",
       "      <td>c</td>\n",
       "      <td>v</td>\n",
       "      <td>1,75</td>\n",
       "      <td>f</td>\n",
       "      <td>t</td>\n",
       "      <td>1</td>\n",
       "      <td>t</td>\n",
       "      <td>g</td>\n",
       "      <td>80.0</td>\n",
       "      <td>5</td>\n",
       "      <td>800000.0</td>\n",
       "      <td>t</td>\n",
       "      <td>0</td>\n",
       "      <td>no.</td>\n",
       "    </tr>\n",
       "    <tr>\n",
       "      <th>1</th>\n",
       "      <td>b</td>\n",
       "      <td>16,92</td>\n",
       "      <td>3,35e-05</td>\n",
       "      <td>y</td>\n",
       "      <td>p</td>\n",
       "      <td>k</td>\n",
       "      <td>v</td>\n",
       "      <td>0,29</td>\n",
       "      <td>f</td>\n",
       "      <td>f</td>\n",
       "      <td>0</td>\n",
       "      <td>f</td>\n",
       "      <td>s</td>\n",
       "      <td>200.0</td>\n",
       "      <td>0</td>\n",
       "      <td>2000000.0</td>\n",
       "      <td>NaN</td>\n",
       "      <td>0</td>\n",
       "      <td>no.</td>\n",
       "    </tr>\n",
       "    <tr>\n",
       "      <th>2</th>\n",
       "      <td>b</td>\n",
       "      <td>31,25</td>\n",
       "      <td>0,0001125</td>\n",
       "      <td>u</td>\n",
       "      <td>g</td>\n",
       "      <td>ff</td>\n",
       "      <td>ff</td>\n",
       "      <td>0</td>\n",
       "      <td>f</td>\n",
       "      <td>t</td>\n",
       "      <td>1</td>\n",
       "      <td>f</td>\n",
       "      <td>g</td>\n",
       "      <td>96.0</td>\n",
       "      <td>19</td>\n",
       "      <td>960000.0</td>\n",
       "      <td>t</td>\n",
       "      <td>0</td>\n",
       "      <td>no.</td>\n",
       "    </tr>\n",
       "    <tr>\n",
       "      <th>3</th>\n",
       "      <td>a</td>\n",
       "      <td>48,17</td>\n",
       "      <td>0,0001335</td>\n",
       "      <td>u</td>\n",
       "      <td>g</td>\n",
       "      <td>i</td>\n",
       "      <td>o</td>\n",
       "      <td>0,335</td>\n",
       "      <td>f</td>\n",
       "      <td>f</td>\n",
       "      <td>0</td>\n",
       "      <td>f</td>\n",
       "      <td>g</td>\n",
       "      <td>0.0</td>\n",
       "      <td>120</td>\n",
       "      <td>0.0</td>\n",
       "      <td>NaN</td>\n",
       "      <td>0</td>\n",
       "      <td>no.</td>\n",
       "    </tr>\n",
       "    <tr>\n",
       "      <th>4</th>\n",
       "      <td>b</td>\n",
       "      <td>32,33</td>\n",
       "      <td>0,00035</td>\n",
       "      <td>u</td>\n",
       "      <td>g</td>\n",
       "      <td>k</td>\n",
       "      <td>v</td>\n",
       "      <td>0,5</td>\n",
       "      <td>f</td>\n",
       "      <td>f</td>\n",
       "      <td>0</td>\n",
       "      <td>t</td>\n",
       "      <td>g</td>\n",
       "      <td>232.0</td>\n",
       "      <td>0</td>\n",
       "      <td>2320000.0</td>\n",
       "      <td>f</td>\n",
       "      <td>0</td>\n",
       "      <td>no.</td>\n",
       "    </tr>\n",
       "  </tbody>\n",
       "</table>\n",
       "</div>"
      ],
      "text/plain": [
       "  v1     v2         v3 v4 v5  v6  v7     v8 v9 v10  v11 v12 v13    v14  v15  \\\n",
       "0  a  17,92    5,4e-05  u  g   c   v   1,75  f   t    1   t   g   80.0    5   \n",
       "1  b  16,92   3,35e-05  y  p   k   v   0,29  f   f    0   f   s  200.0    0   \n",
       "2  b  31,25  0,0001125  u  g  ff  ff      0  f   t    1   f   g   96.0   19   \n",
       "3  a  48,17  0,0001335  u  g   i   o  0,335  f   f    0   f   g    0.0  120   \n",
       "4  b  32,33    0,00035  u  g   k   v    0,5  f   f    0   t   g  232.0    0   \n",
       "\n",
       "         v17  v18  v19 classLabel  \n",
       "0   800000.0    t    0        no.  \n",
       "1  2000000.0  NaN    0        no.  \n",
       "2   960000.0    t    0        no.  \n",
       "3        0.0  NaN    0        no.  \n",
       "4  2320000.0    f    0        no.  "
      ]
     },
     "execution_count": 132,
     "metadata": {},
     "output_type": "execute_result"
    }
   ],
   "source": [
    "train.head()"
   ]
  },
  {
   "cell_type": "code",
   "execution_count": 133,
   "metadata": {},
   "outputs": [
    {
     "data": {
      "text/plain": [
       "count     3700\n",
       "unique       2\n",
       "top       yes.\n",
       "freq      3424\n",
       "Name: classLabel, dtype: object"
      ]
     },
     "execution_count": 133,
     "metadata": {},
     "output_type": "execute_result"
    }
   ],
   "source": [
    "# Analyse classLabel\n",
    "train['classLabel'].describe()"
   ]
  },
  {
   "cell_type": "code",
   "execution_count": 134,
   "metadata": {},
   "outputs": [],
   "source": [
    "# Set target column as boolean\n",
    "train['classLabel'] = train['classLabel'] == 'yes.'"
   ]
  },
  {
   "cell_type": "code",
   "execution_count": 135,
   "metadata": {},
   "outputs": [
    {
     "name": "stdout",
     "output_type": "stream",
     "text": [
      "count     3700\n",
      "unique       2\n",
      "top       True\n",
      "freq      3424\n",
      "Name: classLabel, dtype: object\n",
      "# of True: 3424\n",
      "# of False: 276\n"
     ]
    }
   ],
   "source": [
    "# Analyse classLabel\n",
    "print(train['classLabel'].describe())\n",
    "\n",
    "count_true = sum(train['classLabel'] == True)\n",
    "count_false = sum(train['classLabel'] == False)\n",
    "print('# of True: %d\\n# of False: %d' % (count_true, count_false))"
   ]
  },
  {
   "cell_type": "code",
   "execution_count": 136,
   "metadata": {},
   "outputs": [
    {
     "data": {
      "text/plain": [
       "v1              39\n",
       "v2              39\n",
       "v3               0\n",
       "v4              64\n",
       "v5              64\n",
       "v6              66\n",
       "v7              66\n",
       "v8               0\n",
       "v9               0\n",
       "v10              0\n",
       "v11              0\n",
       "v12              0\n",
       "v13              0\n",
       "v14            100\n",
       "v15              0\n",
       "v17            100\n",
       "v18           2145\n",
       "v19              0\n",
       "classLabel       0\n",
       "dtype: int64"
      ]
     },
     "execution_count": 136,
     "metadata": {},
     "output_type": "execute_result"
    }
   ],
   "source": [
    "# Count NaN values in each column\n",
    "train.isna().sum()"
   ]
  },
  {
   "cell_type": "code",
   "execution_count": 137,
   "metadata": {},
   "outputs": [],
   "source": [
    "# Seems v18 has too many Null values, so let's remove that column entirely\n",
    "train.drop('v18', 1, inplace=True)"
   ]
  },
  {
   "cell_type": "code",
   "execution_count": 138,
   "metadata": {},
   "outputs": [
    {
     "data": {
      "text/plain": [
       "array([  80.,  200.,   96.,    0.,  232.,  160.,  276.,  280.,  220.,\n",
       "        320.,  340.,  120.,  178.,  416.,  180.,  292.,  288.,   nan,\n",
       "        240.,  300.,  980.,  400.,  100.,  108.,  188.,  221.,  333.,\n",
       "         88.,  164.,  225.,  312.,  393.,   29.,  260.,   52.,  228.,\n",
       "         30.,  370.,  519.,   93.,  356.,  600.,  420.,  140.,  150.,\n",
       "         92.,  465.,  128.,  680.,  145.,  360.,   40.,  440.,   50.,\n",
       "        349.,   24.,   49., 1160.,  760.,  208.,   70.,  144.,  272.,\n",
       "        176.,  224.,  411.,   94.,   28.,   20.,  450.,  211.,  274.,\n",
       "         60.,  290.,  117.,  154.,  369.,   76.,   62.,  174.,  720.,\n",
       "        396.,  520.,  311.,  380.,  181.,  381.,  840.,   73.,  431.,\n",
       "        455.,  156.,  368.,  640.,  268.,  348.,  263.,  216.,  454.,\n",
       "        130.,  112.,   17.,  121.,  303.,  375.,  110.,  129.,  443.,\n",
       "        132.,  352.,  254.,   45.,  460.,   75.,  487.,  408.,  399.,\n",
       "        500.,  102.,   22.,  239.,  395.,  204.,  163.,   86.,  256.,\n",
       "        141.,  329.,  252.,  170.,  550.,   21.,  491.,  168.,  250.,\n",
       "        515.,  136.])"
      ]
     },
     "execution_count": 138,
     "metadata": {},
     "output_type": "execute_result"
    }
   ],
   "source": [
    "train['v14'].unique()"
   ]
  },
  {
   "cell_type": "code",
   "execution_count": 139,
   "metadata": {},
   "outputs": [
    {
     "data": {
      "text/plain": [
       "array([  800000.,  2000000.,   960000.,        0.,  2320000.,  1600000.,\n",
       "        2760000.,  2800000.,  2200000.,  3200000.,  3400000.,  1200000.,\n",
       "        1780000.,  4160000.,  1800000.,  2920000.,  2880000.,       nan,\n",
       "        2400000.,  3000000.,  9800000.,  4000000.,  1000000.,  1080000.,\n",
       "        1880000.,  2210000.,  3330000.,   880000.,  1640000.,  2250000.,\n",
       "        3120000.,  3930000.,   290000.,  2600000.,   520000.,  2280000.,\n",
       "         300000.,  3700000.,  5190000.,   930000.,  3560000.,  6000000.,\n",
       "        4200000.,  1400000.,  1500000.,   920000.,  4650000.,  1280000.,\n",
       "        6800000.,  1450000.,  3600000.,   400000.,  4400000.,   500000.,\n",
       "        3490000.,   240000.,   490000., 11600000.,  7600000.,  2080000.,\n",
       "         700000.,  1440000.,  2720000.,  1760000.,  2240000.,  4110000.,\n",
       "         940000.,   280000.,   200000.,  4500000.,  2110000.,  2740000.,\n",
       "         600000.,  2900000.,  1170000.,  1540000.,  3690000.,   760000.,\n",
       "         620000.,  1740000.,  7200000.,  3960000.,  5200000.,  3110000.,\n",
       "        3800000.,  1810000.,  3810000.,  8400000.,   730000.,  4310000.,\n",
       "        4550000.,  1560000.,  3680000.,  6400000.,  2680000.,  3480000.,\n",
       "        2630000.,  2160000.,  4540000.,  1300000.,  1120000.,   170000.,\n",
       "        1210000.,  3030000.,  3750000.,  1100000.,  1290000.,  4430000.,\n",
       "        1320000.,  3520000.,  2540000.,   450000.,  4600000.,   750000.,\n",
       "        4870000.,  4080000.,  3990000.,  5000000.,  1020000.,   220000.,\n",
       "        2390000.,  3950000.,  2040000.,  1630000.,   860000.,  2560000.,\n",
       "        1410000.,  3290000.,  2520000.,  1700000.,  5500000.,   210000.,\n",
       "        4910000.,  1680000.,  2500000.,  5150000.,  1360000.])"
      ]
     },
     "execution_count": 139,
     "metadata": {},
     "output_type": "execute_result"
    }
   ],
   "source": [
    "train['v17'].unique()"
   ]
  },
  {
   "cell_type": "code",
   "execution_count": 228,
   "metadata": {},
   "outputs": [
    {
     "data": {
      "text/plain": [
       "array([False,  True])"
      ]
     },
     "execution_count": 228,
     "metadata": {},
     "output_type": "execute_result"
    }
   ],
   "source": [
    "# Analyse data of each column to identify the right data type\n",
    "# columns\n",
    "# ['v1', 'v2', 'v3', 'v4', 'v5', 'v6', 'v7', 'v8', 'v9', 'v10', 'v11','v12', 'v13', 'v14', 'v15', 'v17', 'v19']\n",
    "train['v19'].unique()\n",
    "# train['v8'].isna().sum()\n",
    "\n",
    "# Boolean columns: 1, 9, 10, 12, 19\n",
    "# Categorical columns: 4, 5, 6, 7, 13, \n",
    "# Numerical columns: 2_0, 2_1, 3, 8, 11, 14, 15"
   ]
  },
  {
   "cell_type": "code",
   "execution_count": 229,
   "metadata": {},
   "outputs": [],
   "source": [
    "def load_db():\n",
    "    # Load datasets\n",
    "    train = pd.read_csv('data/training.csv', sep=';')\n",
    "    valid = pd.read_csv('data/validation.csv', sep=';')\n",
    "    \n",
    "    # Set target column as boolean\n",
    "    train['classLabel'] = train['classLabel'] == 'yes.'\n",
    "    valid['classLabel'] = valid['classLabel'] == 'yes.'\n",
    "    \n",
    "    # Drop column with too many NaNs\n",
    "    train.drop('v18', 1, inplace=True)\n",
    "    valid.drop('v18', 1, inplace=True)\n",
    "    \n",
    "    train = train.dropna()\n",
    "    valid = valid.dropna()\n",
    "    \n",
    "    train['v2_0'] = None\n",
    "    train['v2_1'] = None\n",
    "    \n",
    "    valid['v2_0'] = None\n",
    "    valid['v2_1'] = None\n",
    "    \n",
    "    return train, valid"
   ]
  },
  {
   "cell_type": "code",
   "execution_count": 230,
   "metadata": {},
   "outputs": [],
   "source": [
    "train, valid = load_db()"
   ]
  },
  {
   "cell_type": "code",
   "execution_count": 231,
   "metadata": {},
   "outputs": [],
   "source": [
    "# Fix data-types of each column\n",
    "def fix_features(row):\n",
    "    row['v1'] = row['v1'] == 'a'\n",
    "    \n",
    "    arr = row['v2'].split(',')\n",
    "    row['v2_0'] = int(arr[0])\n",
    "    if len(arr) > 1:\n",
    "        row['v2_1'] = int(arr[1])\n",
    "\n",
    "    n = row['v3'].replace(',', '.')\n",
    "    row['v3'] = float(n)\n",
    "\n",
    "    n = row['v8'].replace(',', '.')\n",
    "    row['v8'] = float(n)\n",
    "\n",
    "    row['v9'] = row['v9'] == 't'\n",
    "\n",
    "    row['v10'] = row['v10'] == 't'\n",
    "\n",
    "    row['v12'] = row['v12'] == 't'\n",
    "    \n",
    "    row['v14'] = int(row['v14'])\n",
    "    \n",
    "    row['v17'] = int(row['v17'])\n",
    "    \n",
    "    row['v19'] = row['v19'] == 1\n",
    "\n",
    "    return row"
   ]
  },
  {
   "cell_type": "code",
   "execution_count": 232,
   "metadata": {},
   "outputs": [],
   "source": [
    "# Apply row manipulation\n",
    "train = train.apply(fix_features, axis=1)\n",
    "valid = valid.apply(fix_features, axis=1)\n",
    "\n",
    "# Drop redundant column [v2]\n",
    "\n",
    "train.dropna(inplace=True)\n",
    "train['v2_1'] = train['v2_1'].astype(np.int64)\n",
    "train.drop('v2', 1, inplace=True)\n",
    "train.drop('v17', 1, inplace=True)\n",
    "\n",
    "valid.dropna(inplace=True)\n",
    "valid['v2_1'] = valid['v2_1'].astype(np.int64)\n",
    "valid.drop('v2', 1, inplace=True)\n",
    "valid.drop('v17', 1, inplace=True)"
   ]
  },
  {
   "cell_type": "code",
   "execution_count": 233,
   "metadata": {},
   "outputs": [
    {
     "data": {
      "text/html": [
       "<div>\n",
       "<style scoped>\n",
       "    .dataframe tbody tr th:only-of-type {\n",
       "        vertical-align: middle;\n",
       "    }\n",
       "\n",
       "    .dataframe tbody tr th {\n",
       "        vertical-align: top;\n",
       "    }\n",
       "\n",
       "    .dataframe thead th {\n",
       "        text-align: right;\n",
       "    }\n",
       "</style>\n",
       "<table border=\"1\" class=\"dataframe\">\n",
       "  <thead>\n",
       "    <tr style=\"text-align: right;\">\n",
       "      <th></th>\n",
       "      <th>v1</th>\n",
       "      <th>v3</th>\n",
       "      <th>v4</th>\n",
       "      <th>v5</th>\n",
       "      <th>v6</th>\n",
       "      <th>v7</th>\n",
       "      <th>v8</th>\n",
       "      <th>v9</th>\n",
       "      <th>v10</th>\n",
       "      <th>v11</th>\n",
       "      <th>v12</th>\n",
       "      <th>v13</th>\n",
       "      <th>v14</th>\n",
       "      <th>v15</th>\n",
       "      <th>v19</th>\n",
       "      <th>classLabel</th>\n",
       "      <th>v2_0</th>\n",
       "      <th>v2_1</th>\n",
       "    </tr>\n",
       "  </thead>\n",
       "  <tbody>\n",
       "    <tr>\n",
       "      <th>0</th>\n",
       "      <td>True</td>\n",
       "      <td>0.000054</td>\n",
       "      <td>u</td>\n",
       "      <td>g</td>\n",
       "      <td>c</td>\n",
       "      <td>v</td>\n",
       "      <td>1.750</td>\n",
       "      <td>False</td>\n",
       "      <td>True</td>\n",
       "      <td>1</td>\n",
       "      <td>True</td>\n",
       "      <td>g</td>\n",
       "      <td>80</td>\n",
       "      <td>5</td>\n",
       "      <td>False</td>\n",
       "      <td>False</td>\n",
       "      <td>17</td>\n",
       "      <td>92</td>\n",
       "    </tr>\n",
       "    <tr>\n",
       "      <th>1</th>\n",
       "      <td>False</td>\n",
       "      <td>0.000034</td>\n",
       "      <td>y</td>\n",
       "      <td>p</td>\n",
       "      <td>k</td>\n",
       "      <td>v</td>\n",
       "      <td>0.290</td>\n",
       "      <td>False</td>\n",
       "      <td>False</td>\n",
       "      <td>0</td>\n",
       "      <td>False</td>\n",
       "      <td>s</td>\n",
       "      <td>200</td>\n",
       "      <td>0</td>\n",
       "      <td>False</td>\n",
       "      <td>False</td>\n",
       "      <td>16</td>\n",
       "      <td>92</td>\n",
       "    </tr>\n",
       "    <tr>\n",
       "      <th>2</th>\n",
       "      <td>False</td>\n",
       "      <td>0.000112</td>\n",
       "      <td>u</td>\n",
       "      <td>g</td>\n",
       "      <td>ff</td>\n",
       "      <td>ff</td>\n",
       "      <td>0.000</td>\n",
       "      <td>False</td>\n",
       "      <td>True</td>\n",
       "      <td>1</td>\n",
       "      <td>False</td>\n",
       "      <td>g</td>\n",
       "      <td>96</td>\n",
       "      <td>19</td>\n",
       "      <td>False</td>\n",
       "      <td>False</td>\n",
       "      <td>31</td>\n",
       "      <td>25</td>\n",
       "    </tr>\n",
       "    <tr>\n",
       "      <th>3</th>\n",
       "      <td>True</td>\n",
       "      <td>0.000133</td>\n",
       "      <td>u</td>\n",
       "      <td>g</td>\n",
       "      <td>i</td>\n",
       "      <td>o</td>\n",
       "      <td>0.335</td>\n",
       "      <td>False</td>\n",
       "      <td>False</td>\n",
       "      <td>0</td>\n",
       "      <td>False</td>\n",
       "      <td>g</td>\n",
       "      <td>0</td>\n",
       "      <td>120</td>\n",
       "      <td>False</td>\n",
       "      <td>False</td>\n",
       "      <td>48</td>\n",
       "      <td>17</td>\n",
       "    </tr>\n",
       "    <tr>\n",
       "      <th>4</th>\n",
       "      <td>False</td>\n",
       "      <td>0.000350</td>\n",
       "      <td>u</td>\n",
       "      <td>g</td>\n",
       "      <td>k</td>\n",
       "      <td>v</td>\n",
       "      <td>0.500</td>\n",
       "      <td>False</td>\n",
       "      <td>False</td>\n",
       "      <td>0</td>\n",
       "      <td>True</td>\n",
       "      <td>g</td>\n",
       "      <td>232</td>\n",
       "      <td>0</td>\n",
       "      <td>False</td>\n",
       "      <td>False</td>\n",
       "      <td>32</td>\n",
       "      <td>33</td>\n",
       "    </tr>\n",
       "  </tbody>\n",
       "</table>\n",
       "</div>"
      ],
      "text/plain": [
       "      v1        v3 v4 v5  v6  v7     v8     v9    v10  v11    v12 v13  v14  \\\n",
       "0   True  0.000054  u  g   c   v  1.750  False   True    1   True   g   80   \n",
       "1  False  0.000034  y  p   k   v  0.290  False  False    0  False   s  200   \n",
       "2  False  0.000112  u  g  ff  ff  0.000  False   True    1  False   g   96   \n",
       "3   True  0.000133  u  g   i   o  0.335  False  False    0  False   g    0   \n",
       "4  False  0.000350  u  g   k   v  0.500  False  False    0   True   g  232   \n",
       "\n",
       "   v15    v19  classLabel  v2_0  v2_1  \n",
       "0    5  False       False    17    92  \n",
       "1    0  False       False    16    92  \n",
       "2   19  False       False    31    25  \n",
       "3  120  False       False    48    17  \n",
       "4    0  False       False    32    33  "
      ]
     },
     "execution_count": 233,
     "metadata": {},
     "output_type": "execute_result"
    }
   ],
   "source": [
    "train.head()"
   ]
  },
  {
   "cell_type": "code",
   "execution_count": 204,
   "metadata": {},
   "outputs": [
    {
     "data": {
      "text/plain": [
       "v1            0\n",
       "v3            0\n",
       "v4            0\n",
       "v5            0\n",
       "v6            0\n",
       "v7            0\n",
       "v8            0\n",
       "v9            0\n",
       "v10           0\n",
       "v11           0\n",
       "v12           0\n",
       "v13           0\n",
       "v14           0\n",
       "v15           0\n",
       "v17           0\n",
       "v19           0\n",
       "classLabel    0\n",
       "v2_0          0\n",
       "v2_1          0\n",
       "dtype: int64"
      ]
     },
     "execution_count": 204,
     "metadata": {},
     "output_type": "execute_result"
    }
   ],
   "source": [
    "train.isna().sum()"
   ]
  },
  {
   "cell_type": "code",
   "execution_count": 207,
   "metadata": {},
   "outputs": [
    {
     "data": {
      "text/plain": [
       "v1            0\n",
       "v3            0\n",
       "v4            0\n",
       "v5            0\n",
       "v6            0\n",
       "v7            0\n",
       "v8            0\n",
       "v9            0\n",
       "v10           0\n",
       "v11           0\n",
       "v12           0\n",
       "v13           0\n",
       "v14           0\n",
       "v15           0\n",
       "v17           0\n",
       "v19           0\n",
       "classLabel    0\n",
       "v2_0          0\n",
       "v2_1          0\n",
       "dtype: int64"
      ]
     },
     "execution_count": 207,
     "metadata": {},
     "output_type": "execute_result"
    }
   ],
   "source": [
    "valid.isna().sum()"
   ]
  },
  {
   "cell_type": "code",
   "execution_count": 224,
   "metadata": {},
   "outputs": [
    {
     "data": {
      "text/plain": [
       "<matplotlib.axes._subplots.AxesSubplot at 0x11d112588>"
      ]
     },
     "execution_count": 224,
     "metadata": {},
     "output_type": "execute_result"
    },
    {
     "data": {
      "image/png": "[encoded data removed]",
      "text/plain": [
       "<Figure size 432x288 with 2 Axes>"
      ]
     },
     "metadata": {
      "needs_background": "light"
     },
     "output_type": "display_data"
    }
   ],
   "source": [
    "# Check if there are obvious correlations\n",
    "corr = train.corr()\n",
    "sns.heatmap(corr, \n",
    "            xticklabels=corr.columns.values,\n",
    "            yticklabels=corr.columns.values)"
   ]
  },
  {
   "cell_type": "code",
   "execution_count": 210,
   "metadata": {},
   "outputs": [
    {
     "data": {
      "text/plain": [
       "1.0"
      ]
     },
     "execution_count": 210,
     "metadata": {},
     "output_type": "execute_result"
    }
   ],
   "source": [
    "train['classLabel'].corr(train['v19'])"
   ]
  },
  {
   "cell_type": "code",
   "execution_count": null,
   "metadata": {},
   "outputs": [],
   "source": [
    "# Perfect correlation between target [classLabel] vs v19 columns, it's too easy.\n",
    "# However, validation dataset doesn't show any correlation. Hence, we might have to remove the column [v19]\n",
    "# Not to distract"
   ]
  },
  {
   "cell_type": "code",
   "execution_count": 226,
   "metadata": {},
   "outputs": [
    {
     "data": {
      "text/plain": [
       "0.5905999505996958"
      ]
     },
     "execution_count": 226,
     "metadata": {},
     "output_type": "execute_result"
    }
   ],
   "source": [
    "train['classLabel'].corr(train['v9'])"
   ]
  },
  {
   "cell_type": "code",
   "execution_count": 215,
   "metadata": {},
   "outputs": [
    {
     "data": {
      "text/html": [
       "<div>\n",
       "<style scoped>\n",
       "    .dataframe tbody tr th:only-of-type {\n",
       "        vertical-align: middle;\n",
       "    }\n",
       "\n",
       "    .dataframe tbody tr th {\n",
       "        vertical-align: top;\n",
       "    }\n",
       "\n",
       "    .dataframe thead th {\n",
       "        text-align: right;\n",
       "    }\n",
       "</style>\n",
       "<table border=\"1\" class=\"dataframe\">\n",
       "  <thead>\n",
       "    <tr style=\"text-align: right;\">\n",
       "      <th></th>\n",
       "      <th>v19</th>\n",
       "      <th>classLabel</th>\n",
       "    </tr>\n",
       "  </thead>\n",
       "  <tbody>\n",
       "    <tr>\n",
       "      <th>0</th>\n",
       "      <td>False</td>\n",
       "      <td>False</td>\n",
       "    </tr>\n",
       "    <tr>\n",
       "      <th>1</th>\n",
       "      <td>False</td>\n",
       "      <td>False</td>\n",
       "    </tr>\n",
       "    <tr>\n",
       "      <th>2</th>\n",
       "      <td>False</td>\n",
       "      <td>False</td>\n",
       "    </tr>\n",
       "    <tr>\n",
       "      <th>3</th>\n",
       "      <td>False</td>\n",
       "      <td>False</td>\n",
       "    </tr>\n",
       "    <tr>\n",
       "      <th>4</th>\n",
       "      <td>False</td>\n",
       "      <td>False</td>\n",
       "    </tr>\n",
       "  </tbody>\n",
       "</table>\n",
       "</div>"
      ],
      "text/plain": [
       "     v19  classLabel\n",
       "0  False       False\n",
       "1  False       False\n",
       "2  False       False\n",
       "3  False       False\n",
       "4  False       False"
      ]
     },
     "execution_count": 215,
     "metadata": {},
     "output_type": "execute_result"
    }
   ],
   "source": [
    "train[['v19', 'classLabel']].head()"
   ]
  },
  {
   "cell_type": "code",
   "execution_count": 209,
   "metadata": {},
   "outputs": [
    {
     "data": {
      "text/plain": [
       "<matplotlib.axes._subplots.AxesSubplot at 0x1175f2198>"
      ]
     },
     "execution_count": 209,
     "metadata": {},
     "output_type": "execute_result"
    },
    {
     "data": {
      "image/png": "[encoded data removed]",
      "text/plain": [
       "<Figure size 432x288 with 2 Axes>"
      ]
     },
     "metadata": {
      "needs_background": "light"
     },
     "output_type": "display_data"
    }
   ],
   "source": [
    "corr = valid.corr()\n",
    "sns.heatmap(corr, \n",
    "            xticklabels=corr.columns.values,\n",
    "            yticklabels=corr.columns.values)"
   ]
  },
  {
   "cell_type": "code",
   "execution_count": 211,
   "metadata": {},
   "outputs": [
    {
     "data": {
      "text/plain": [
       "-0.01585069782918936"
      ]
     },
     "execution_count": 211,
     "metadata": {},
     "output_type": "execute_result"
    }
   ],
   "source": [
    "valid['classLabel'].corr(valid['v19'])"
   ]
  },
  {
   "cell_type": "code",
   "execution_count": 227,
   "metadata": {},
   "outputs": [
    {
     "data": {
      "text/plain": [
       "0.7459491609360492"
      ]
     },
     "execution_count": 227,
     "metadata": {},
     "output_type": "execute_result"
    }
   ],
   "source": [
    "valid['classLabel'].corr(valid['v9'])\n",
    "\n",
    "# Both in validation and training sets, there is high correlation between Target vs v9 columns"
   ]
  },
  {
   "cell_type": "code",
   "execution_count": 234,
   "metadata": {},
   "outputs": [
    {
     "data": {
      "text/html": [
       "<div>\n",
       "<style scoped>\n",
       "    .dataframe tbody tr th:only-of-type {\n",
       "        vertical-align: middle;\n",
       "    }\n",
       "\n",
       "    .dataframe tbody tr th {\n",
       "        vertical-align: top;\n",
       "    }\n",
       "\n",
       "    .dataframe thead th {\n",
       "        text-align: right;\n",
       "    }\n",
       "</style>\n",
       "<table border=\"1\" class=\"dataframe\">\n",
       "  <thead>\n",
       "    <tr style=\"text-align: right;\">\n",
       "      <th></th>\n",
       "      <th>v19</th>\n",
       "      <th>classLabel</th>\n",
       "    </tr>\n",
       "  </thead>\n",
       "  <tbody>\n",
       "    <tr>\n",
       "      <th>0</th>\n",
       "      <td>True</td>\n",
       "      <td>False</td>\n",
       "    </tr>\n",
       "    <tr>\n",
       "      <th>1</th>\n",
       "      <td>False</td>\n",
       "      <td>False</td>\n",
       "    </tr>\n",
       "    <tr>\n",
       "      <th>2</th>\n",
       "      <td>True</td>\n",
       "      <td>False</td>\n",
       "    </tr>\n",
       "    <tr>\n",
       "      <th>3</th>\n",
       "      <td>False</td>\n",
       "      <td>False</td>\n",
       "    </tr>\n",
       "    <tr>\n",
       "      <th>4</th>\n",
       "      <td>True</td>\n",
       "      <td>False</td>\n",
       "    </tr>\n",
       "  </tbody>\n",
       "</table>\n",
       "</div>"
      ],
      "text/plain": [
       "     v19  classLabel\n",
       "0   True       False\n",
       "1  False       False\n",
       "2   True       False\n",
       "3  False       False\n",
       "4   True       False"
      ]
     },
     "execution_count": 234,
     "metadata": {},
     "output_type": "execute_result"
    }
   ],
   "source": [
    "valid[['v19', 'classLabel']].head()"
   ]
  },
  {
   "cell_type": "code",
   "execution_count": null,
   "metadata": {},
   "outputs": [],
   "source": [
    "CATEGORICAL_COLUMNS = [] "
   ]
  },
  {
   "cell_type": "code",
   "execution_count": 235,
   "metadata": {},
   "outputs": [],
   "source": [
    "# Save processed datasets for training stage\n",
    "train.to_csv('db/train.csv', index=False)\n",
    "valid.to_csv('db/valid.csv', index=False)"
   ]
  },
  {
   "cell_type": "raw",
   "metadata": {},
   "source": []
  }
 ],
 "metadata": {
  "kernelspec": {
   "display_name": "Python 3",
   "language": "python",
   "name": "python3"
  },
  "language_info": {
   "codemirror_mode": {
    "name": "ipython",
    "version": 3
   },
   "file_extension": ".py",
   "mimetype": "text/x-python",
   "name": "python",
   "nbconvert_exporter": "python",
   "pygments_lexer": "ipython3",
   "version": "3.6.4"
  }
 },
 "nbformat": 4,
 "nbformat_minor": 2
}
